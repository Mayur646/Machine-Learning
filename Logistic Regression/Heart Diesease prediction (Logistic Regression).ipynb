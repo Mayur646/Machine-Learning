{
 "cells": [
  {
   "cell_type": "markdown",
   "id": "bb13618e",
   "metadata": {},
   "source": [
    "# Heart Disease Prediction (Logit-Regression)"
   ]
  },
  {
   "cell_type": "markdown",
   "id": "a7210419",
   "metadata": {},
   "source": [
    "### Our goal is to predict whether the patient has 10-year risk of future coronary heart disease (CHD).The dataset provides the patients’ information. It includes over 4,238 records and 16 attributes.\n",
    "\n",
    "\n",
    "Varibles:\n",
    "\n",
    "Sex: male or female(Nominal)\n",
    "\n",
    "Age: Age of the patient;\n",
    "\n",
    "Education : Education of patient\n",
    "\n",
    "Current Smoker: whether or not the patient is a current smoker (Nominal)\n",
    "\n",
    "Cigs Per Day: the number of cigarettes that the person smoked on average in one day.\n",
    "\n",
    "BP Meds: whether or not the patient was on blood pressure medication (Nominal)\n",
    "\n",
    "Prevalent Stroke: whether or not the patient had previously had a stroke (Nominal)\n",
    "\n",
    "Prevalent Hyp: whether or not the patient was hypertensive (Nominal)\n",
    "\n",
    "Diabetes: whether or not the patient had diabetes (Nominal)\n",
    "\n",
    "Tot Chol: total cholesterol level (Continuous)\n",
    "\n",
    "Sys BP: systolic blood pressure (Continuous)\n",
    "\n",
    "Dia BP: diastolic blood pressure (Continuous)\n",
    "\n",
    "BMI: Body Mass Index (Continuous)\n",
    "\n",
    "Heart Rate: heart rate (Continuous )\n",
    "\n",
    "Glucose: glucose level (Continuous)\n",
    "\n",
    "10 year risk of coronary heart disease CHD (binary: “1”, means “Yes”, “0” means “No”) (Target Variable)"
   ]
  },
  {
   "cell_type": "code",
   "execution_count": 36,
   "id": "80e3b463",
   "metadata": {},
   "outputs": [],
   "source": [
    "import pandas as pd \n",
    "import numpy as np \n",
    "from sklearn.preprocessing import StandardScaler \n",
    "from sklearn.linear_model  import  LogisticRegression\n",
    "from sklearn.model_selection import train_test_split\n",
    "\n",
    "from sklearn.metrics import accuracy_score, confusion_matrix\n",
    "import matplotlib.pyplot as plt\n",
    "import seaborn as sns\n",
    "%matplotlib inline\n",
    "import warnings\n",
    "warnings.filterwarnings(\"ignore\")\n",
    "\n",
    "sns.set()"
   ]
  },
  {
   "cell_type": "code",
   "execution_count": 37,
   "id": "0fdb47a4",
   "metadata": {},
   "outputs": [
    {
     "data": {
      "text/html": [
       "<div>\n",
       "<style scoped>\n",
       "    .dataframe tbody tr th:only-of-type {\n",
       "        vertical-align: middle;\n",
       "    }\n",
       "\n",
       "    .dataframe tbody tr th {\n",
       "        vertical-align: top;\n",
       "    }\n",
       "\n",
       "    .dataframe thead th {\n",
       "        text-align: right;\n",
       "    }\n",
       "</style>\n",
       "<table border=\"1\" class=\"dataframe\">\n",
       "  <thead>\n",
       "    <tr style=\"text-align: right;\">\n",
       "      <th></th>\n",
       "      <th>male</th>\n",
       "      <th>age</th>\n",
       "      <th>education</th>\n",
       "      <th>currentSmoker</th>\n",
       "      <th>cigsPerDay</th>\n",
       "      <th>BPMeds</th>\n",
       "      <th>prevalentStroke</th>\n",
       "      <th>prevalentHyp</th>\n",
       "      <th>diabetes</th>\n",
       "      <th>totChol</th>\n",
       "      <th>sysBP</th>\n",
       "      <th>diaBP</th>\n",
       "      <th>BMI</th>\n",
       "      <th>heartRate</th>\n",
       "      <th>glucose</th>\n",
       "      <th>TenYearCHD</th>\n",
       "    </tr>\n",
       "  </thead>\n",
       "  <tbody>\n",
       "    <tr>\n",
       "      <th>0</th>\n",
       "      <td>1</td>\n",
       "      <td>39</td>\n",
       "      <td>4.0</td>\n",
       "      <td>0</td>\n",
       "      <td>0.0</td>\n",
       "      <td>0.0</td>\n",
       "      <td>0</td>\n",
       "      <td>0</td>\n",
       "      <td>0</td>\n",
       "      <td>195.0</td>\n",
       "      <td>106.0</td>\n",
       "      <td>70.0</td>\n",
       "      <td>26.97</td>\n",
       "      <td>80.0</td>\n",
       "      <td>77.0</td>\n",
       "      <td>0</td>\n",
       "    </tr>\n",
       "    <tr>\n",
       "      <th>1</th>\n",
       "      <td>0</td>\n",
       "      <td>46</td>\n",
       "      <td>2.0</td>\n",
       "      <td>0</td>\n",
       "      <td>0.0</td>\n",
       "      <td>0.0</td>\n",
       "      <td>0</td>\n",
       "      <td>0</td>\n",
       "      <td>0</td>\n",
       "      <td>250.0</td>\n",
       "      <td>121.0</td>\n",
       "      <td>81.0</td>\n",
       "      <td>28.73</td>\n",
       "      <td>95.0</td>\n",
       "      <td>76.0</td>\n",
       "      <td>0</td>\n",
       "    </tr>\n",
       "    <tr>\n",
       "      <th>2</th>\n",
       "      <td>1</td>\n",
       "      <td>48</td>\n",
       "      <td>1.0</td>\n",
       "      <td>1</td>\n",
       "      <td>20.0</td>\n",
       "      <td>0.0</td>\n",
       "      <td>0</td>\n",
       "      <td>0</td>\n",
       "      <td>0</td>\n",
       "      <td>245.0</td>\n",
       "      <td>127.5</td>\n",
       "      <td>80.0</td>\n",
       "      <td>25.34</td>\n",
       "      <td>75.0</td>\n",
       "      <td>70.0</td>\n",
       "      <td>0</td>\n",
       "    </tr>\n",
       "    <tr>\n",
       "      <th>3</th>\n",
       "      <td>0</td>\n",
       "      <td>61</td>\n",
       "      <td>3.0</td>\n",
       "      <td>1</td>\n",
       "      <td>30.0</td>\n",
       "      <td>0.0</td>\n",
       "      <td>0</td>\n",
       "      <td>1</td>\n",
       "      <td>0</td>\n",
       "      <td>225.0</td>\n",
       "      <td>150.0</td>\n",
       "      <td>95.0</td>\n",
       "      <td>28.58</td>\n",
       "      <td>65.0</td>\n",
       "      <td>103.0</td>\n",
       "      <td>1</td>\n",
       "    </tr>\n",
       "    <tr>\n",
       "      <th>4</th>\n",
       "      <td>0</td>\n",
       "      <td>46</td>\n",
       "      <td>3.0</td>\n",
       "      <td>1</td>\n",
       "      <td>23.0</td>\n",
       "      <td>0.0</td>\n",
       "      <td>0</td>\n",
       "      <td>0</td>\n",
       "      <td>0</td>\n",
       "      <td>285.0</td>\n",
       "      <td>130.0</td>\n",
       "      <td>84.0</td>\n",
       "      <td>23.10</td>\n",
       "      <td>85.0</td>\n",
       "      <td>85.0</td>\n",
       "      <td>0</td>\n",
       "    </tr>\n",
       "  </tbody>\n",
       "</table>\n",
       "</div>"
      ],
      "text/plain": [
       "   male  age  education  currentSmoker  cigsPerDay  BPMeds  prevalentStroke  \\\n",
       "0     1   39        4.0              0         0.0     0.0                0   \n",
       "1     0   46        2.0              0         0.0     0.0                0   \n",
       "2     1   48        1.0              1        20.0     0.0                0   \n",
       "3     0   61        3.0              1        30.0     0.0                0   \n",
       "4     0   46        3.0              1        23.0     0.0                0   \n",
       "\n",
       "   prevalentHyp  diabetes  totChol  sysBP  diaBP    BMI  heartRate  glucose  \\\n",
       "0             0         0    195.0  106.0   70.0  26.97       80.0     77.0   \n",
       "1             0         0    250.0  121.0   81.0  28.73       95.0     76.0   \n",
       "2             0         0    245.0  127.5   80.0  25.34       75.0     70.0   \n",
       "3             1         0    225.0  150.0   95.0  28.58       65.0    103.0   \n",
       "4             0         0    285.0  130.0   84.0  23.10       85.0     85.0   \n",
       "\n",
       "   TenYearCHD  \n",
       "0           0  \n",
       "1           0  \n",
       "2           0  \n",
       "3           1  \n",
       "4           0  "
      ]
     },
     "execution_count": 37,
     "metadata": {},
     "output_type": "execute_result"
    }
   ],
   "source": [
    "data = pd.read_csv(r\"C:\\Users\\Human\\OneDrive\\Desktop\\framingham.csv\") # Reading the Data\n",
    "data.head()"
   ]
  },
  {
   "cell_type": "markdown",
   "id": "6e363d12",
   "metadata": {},
   "source": [
    "## Data Exploration & Preprocessing"
   ]
  },
  {
   "cell_type": "code",
   "execution_count": 38,
   "id": "a37fa5f1",
   "metadata": {},
   "outputs": [
    {
     "name": "stdout",
     "output_type": "stream",
     "text": [
      "(4238, 16)\n",
      "number of rows are 4238\n",
      "number of coloumns are 16\n"
     ]
    }
   ],
   "source": [
    "print(data.shape)\n",
    "print('number of rows are',data.shape[0])\n",
    "print('number of coloumns are',data.shape[1])"
   ]
  },
  {
   "cell_type": "code",
   "execution_count": 39,
   "id": "276970ba",
   "metadata": {},
   "outputs": [
    {
     "data": {
      "text/html": [
       "<div>\n",
       "<style scoped>\n",
       "    .dataframe tbody tr th:only-of-type {\n",
       "        vertical-align: middle;\n",
       "    }\n",
       "\n",
       "    .dataframe tbody tr th {\n",
       "        vertical-align: top;\n",
       "    }\n",
       "\n",
       "    .dataframe thead th {\n",
       "        text-align: right;\n",
       "    }\n",
       "</style>\n",
       "<table border=\"1\" class=\"dataframe\">\n",
       "  <thead>\n",
       "    <tr style=\"text-align: right;\">\n",
       "      <th></th>\n",
       "      <th>count</th>\n",
       "      <th>mean</th>\n",
       "      <th>std</th>\n",
       "      <th>min</th>\n",
       "      <th>25%</th>\n",
       "      <th>50%</th>\n",
       "      <th>75%</th>\n",
       "      <th>max</th>\n",
       "    </tr>\n",
       "  </thead>\n",
       "  <tbody>\n",
       "    <tr>\n",
       "      <th>male</th>\n",
       "      <td>4238.0</td>\n",
       "      <td>0.429212</td>\n",
       "      <td>0.495022</td>\n",
       "      <td>0.00</td>\n",
       "      <td>0.00</td>\n",
       "      <td>0.0</td>\n",
       "      <td>1.000</td>\n",
       "      <td>1.0</td>\n",
       "    </tr>\n",
       "    <tr>\n",
       "      <th>age</th>\n",
       "      <td>4238.0</td>\n",
       "      <td>49.584946</td>\n",
       "      <td>8.572160</td>\n",
       "      <td>32.00</td>\n",
       "      <td>42.00</td>\n",
       "      <td>49.0</td>\n",
       "      <td>56.000</td>\n",
       "      <td>70.0</td>\n",
       "    </tr>\n",
       "    <tr>\n",
       "      <th>education</th>\n",
       "      <td>4133.0</td>\n",
       "      <td>1.978950</td>\n",
       "      <td>1.019791</td>\n",
       "      <td>1.00</td>\n",
       "      <td>1.00</td>\n",
       "      <td>2.0</td>\n",
       "      <td>3.000</td>\n",
       "      <td>4.0</td>\n",
       "    </tr>\n",
       "    <tr>\n",
       "      <th>currentSmoker</th>\n",
       "      <td>4238.0</td>\n",
       "      <td>0.494101</td>\n",
       "      <td>0.500024</td>\n",
       "      <td>0.00</td>\n",
       "      <td>0.00</td>\n",
       "      <td>0.0</td>\n",
       "      <td>1.000</td>\n",
       "      <td>1.0</td>\n",
       "    </tr>\n",
       "    <tr>\n",
       "      <th>cigsPerDay</th>\n",
       "      <td>4209.0</td>\n",
       "      <td>9.003089</td>\n",
       "      <td>11.920094</td>\n",
       "      <td>0.00</td>\n",
       "      <td>0.00</td>\n",
       "      <td>0.0</td>\n",
       "      <td>20.000</td>\n",
       "      <td>70.0</td>\n",
       "    </tr>\n",
       "    <tr>\n",
       "      <th>BPMeds</th>\n",
       "      <td>4185.0</td>\n",
       "      <td>0.029630</td>\n",
       "      <td>0.169584</td>\n",
       "      <td>0.00</td>\n",
       "      <td>0.00</td>\n",
       "      <td>0.0</td>\n",
       "      <td>0.000</td>\n",
       "      <td>1.0</td>\n",
       "    </tr>\n",
       "    <tr>\n",
       "      <th>prevalentStroke</th>\n",
       "      <td>4238.0</td>\n",
       "      <td>0.005899</td>\n",
       "      <td>0.076587</td>\n",
       "      <td>0.00</td>\n",
       "      <td>0.00</td>\n",
       "      <td>0.0</td>\n",
       "      <td>0.000</td>\n",
       "      <td>1.0</td>\n",
       "    </tr>\n",
       "    <tr>\n",
       "      <th>prevalentHyp</th>\n",
       "      <td>4238.0</td>\n",
       "      <td>0.310524</td>\n",
       "      <td>0.462763</td>\n",
       "      <td>0.00</td>\n",
       "      <td>0.00</td>\n",
       "      <td>0.0</td>\n",
       "      <td>1.000</td>\n",
       "      <td>1.0</td>\n",
       "    </tr>\n",
       "    <tr>\n",
       "      <th>diabetes</th>\n",
       "      <td>4238.0</td>\n",
       "      <td>0.025720</td>\n",
       "      <td>0.158316</td>\n",
       "      <td>0.00</td>\n",
       "      <td>0.00</td>\n",
       "      <td>0.0</td>\n",
       "      <td>0.000</td>\n",
       "      <td>1.0</td>\n",
       "    </tr>\n",
       "    <tr>\n",
       "      <th>totChol</th>\n",
       "      <td>4188.0</td>\n",
       "      <td>236.721585</td>\n",
       "      <td>44.590334</td>\n",
       "      <td>107.00</td>\n",
       "      <td>206.00</td>\n",
       "      <td>234.0</td>\n",
       "      <td>263.000</td>\n",
       "      <td>696.0</td>\n",
       "    </tr>\n",
       "    <tr>\n",
       "      <th>sysBP</th>\n",
       "      <td>4238.0</td>\n",
       "      <td>132.352407</td>\n",
       "      <td>22.038097</td>\n",
       "      <td>83.50</td>\n",
       "      <td>117.00</td>\n",
       "      <td>128.0</td>\n",
       "      <td>144.000</td>\n",
       "      <td>295.0</td>\n",
       "    </tr>\n",
       "    <tr>\n",
       "      <th>diaBP</th>\n",
       "      <td>4238.0</td>\n",
       "      <td>82.893464</td>\n",
       "      <td>11.910850</td>\n",
       "      <td>48.00</td>\n",
       "      <td>75.00</td>\n",
       "      <td>82.0</td>\n",
       "      <td>89.875</td>\n",
       "      <td>142.5</td>\n",
       "    </tr>\n",
       "    <tr>\n",
       "      <th>BMI</th>\n",
       "      <td>4219.0</td>\n",
       "      <td>25.802008</td>\n",
       "      <td>4.080111</td>\n",
       "      <td>15.54</td>\n",
       "      <td>23.07</td>\n",
       "      <td>25.4</td>\n",
       "      <td>28.040</td>\n",
       "      <td>56.8</td>\n",
       "    </tr>\n",
       "    <tr>\n",
       "      <th>heartRate</th>\n",
       "      <td>4237.0</td>\n",
       "      <td>75.878924</td>\n",
       "      <td>12.026596</td>\n",
       "      <td>44.00</td>\n",
       "      <td>68.00</td>\n",
       "      <td>75.0</td>\n",
       "      <td>83.000</td>\n",
       "      <td>143.0</td>\n",
       "    </tr>\n",
       "    <tr>\n",
       "      <th>glucose</th>\n",
       "      <td>3850.0</td>\n",
       "      <td>81.966753</td>\n",
       "      <td>23.959998</td>\n",
       "      <td>40.00</td>\n",
       "      <td>71.00</td>\n",
       "      <td>78.0</td>\n",
       "      <td>87.000</td>\n",
       "      <td>394.0</td>\n",
       "    </tr>\n",
       "    <tr>\n",
       "      <th>TenYearCHD</th>\n",
       "      <td>4238.0</td>\n",
       "      <td>0.151958</td>\n",
       "      <td>0.359023</td>\n",
       "      <td>0.00</td>\n",
       "      <td>0.00</td>\n",
       "      <td>0.0</td>\n",
       "      <td>0.000</td>\n",
       "      <td>1.0</td>\n",
       "    </tr>\n",
       "  </tbody>\n",
       "</table>\n",
       "</div>"
      ],
      "text/plain": [
       "                  count        mean        std     min     25%    50%  \\\n",
       "male             4238.0    0.429212   0.495022    0.00    0.00    0.0   \n",
       "age              4238.0   49.584946   8.572160   32.00   42.00   49.0   \n",
       "education        4133.0    1.978950   1.019791    1.00    1.00    2.0   \n",
       "currentSmoker    4238.0    0.494101   0.500024    0.00    0.00    0.0   \n",
       "cigsPerDay       4209.0    9.003089  11.920094    0.00    0.00    0.0   \n",
       "BPMeds           4185.0    0.029630   0.169584    0.00    0.00    0.0   \n",
       "prevalentStroke  4238.0    0.005899   0.076587    0.00    0.00    0.0   \n",
       "prevalentHyp     4238.0    0.310524   0.462763    0.00    0.00    0.0   \n",
       "diabetes         4238.0    0.025720   0.158316    0.00    0.00    0.0   \n",
       "totChol          4188.0  236.721585  44.590334  107.00  206.00  234.0   \n",
       "sysBP            4238.0  132.352407  22.038097   83.50  117.00  128.0   \n",
       "diaBP            4238.0   82.893464  11.910850   48.00   75.00   82.0   \n",
       "BMI              4219.0   25.802008   4.080111   15.54   23.07   25.4   \n",
       "heartRate        4237.0   75.878924  12.026596   44.00   68.00   75.0   \n",
       "glucose          3850.0   81.966753  23.959998   40.00   71.00   78.0   \n",
       "TenYearCHD       4238.0    0.151958   0.359023    0.00    0.00    0.0   \n",
       "\n",
       "                     75%    max  \n",
       "male               1.000    1.0  \n",
       "age               56.000   70.0  \n",
       "education          3.000    4.0  \n",
       "currentSmoker      1.000    1.0  \n",
       "cigsPerDay        20.000   70.0  \n",
       "BPMeds             0.000    1.0  \n",
       "prevalentStroke    0.000    1.0  \n",
       "prevalentHyp       1.000    1.0  \n",
       "diabetes           0.000    1.0  \n",
       "totChol          263.000  696.0  \n",
       "sysBP            144.000  295.0  \n",
       "diaBP             89.875  142.5  \n",
       "BMI               28.040   56.8  \n",
       "heartRate         83.000  143.0  \n",
       "glucose           87.000  394.0  \n",
       "TenYearCHD         0.000    1.0  "
      ]
     },
     "execution_count": 39,
     "metadata": {},
     "output_type": "execute_result"
    }
   ],
   "source": [
    "data.describe().T\n"
   ]
  },
  {
   "cell_type": "markdown",
   "id": "17f6cd14",
   "metadata": {},
   "source": [
    "#### Renaming the column 'male' to 'Gender' "
   ]
  },
  {
   "cell_type": "code",
   "execution_count": 40,
   "id": "9966dfbb",
   "metadata": {},
   "outputs": [],
   "source": [
    "data.rename(columns={\"male\":\"Gender\"},inplace=True)"
   ]
  },
  {
   "cell_type": "code",
   "execution_count": 41,
   "id": "d15ad76e",
   "metadata": {},
   "outputs": [
    {
     "data": {
      "text/html": [
       "<div>\n",
       "<style scoped>\n",
       "    .dataframe tbody tr th:only-of-type {\n",
       "        vertical-align: middle;\n",
       "    }\n",
       "\n",
       "    .dataframe tbody tr th {\n",
       "        vertical-align: top;\n",
       "    }\n",
       "\n",
       "    .dataframe thead th {\n",
       "        text-align: right;\n",
       "    }\n",
       "</style>\n",
       "<table border=\"1\" class=\"dataframe\">\n",
       "  <thead>\n",
       "    <tr style=\"text-align: right;\">\n",
       "      <th></th>\n",
       "      <th>Gender</th>\n",
       "      <th>age</th>\n",
       "      <th>education</th>\n",
       "      <th>currentSmoker</th>\n",
       "      <th>cigsPerDay</th>\n",
       "      <th>BPMeds</th>\n",
       "      <th>prevalentStroke</th>\n",
       "      <th>prevalentHyp</th>\n",
       "      <th>diabetes</th>\n",
       "      <th>totChol</th>\n",
       "      <th>sysBP</th>\n",
       "      <th>diaBP</th>\n",
       "      <th>BMI</th>\n",
       "      <th>heartRate</th>\n",
       "      <th>glucose</th>\n",
       "      <th>TenYearCHD</th>\n",
       "    </tr>\n",
       "  </thead>\n",
       "  <tbody>\n",
       "    <tr>\n",
       "      <th>0</th>\n",
       "      <td>1</td>\n",
       "      <td>39</td>\n",
       "      <td>4.0</td>\n",
       "      <td>0</td>\n",
       "      <td>0.0</td>\n",
       "      <td>0.0</td>\n",
       "      <td>0</td>\n",
       "      <td>0</td>\n",
       "      <td>0</td>\n",
       "      <td>195.0</td>\n",
       "      <td>106.0</td>\n",
       "      <td>70.0</td>\n",
       "      <td>26.97</td>\n",
       "      <td>80.0</td>\n",
       "      <td>77.0</td>\n",
       "      <td>0</td>\n",
       "    </tr>\n",
       "    <tr>\n",
       "      <th>1</th>\n",
       "      <td>0</td>\n",
       "      <td>46</td>\n",
       "      <td>2.0</td>\n",
       "      <td>0</td>\n",
       "      <td>0.0</td>\n",
       "      <td>0.0</td>\n",
       "      <td>0</td>\n",
       "      <td>0</td>\n",
       "      <td>0</td>\n",
       "      <td>250.0</td>\n",
       "      <td>121.0</td>\n",
       "      <td>81.0</td>\n",
       "      <td>28.73</td>\n",
       "      <td>95.0</td>\n",
       "      <td>76.0</td>\n",
       "      <td>0</td>\n",
       "    </tr>\n",
       "  </tbody>\n",
       "</table>\n",
       "</div>"
      ],
      "text/plain": [
       "   Gender  age  education  currentSmoker  cigsPerDay  BPMeds  prevalentStroke  \\\n",
       "0       1   39        4.0              0         0.0     0.0                0   \n",
       "1       0   46        2.0              0         0.0     0.0                0   \n",
       "\n",
       "   prevalentHyp  diabetes  totChol  sysBP  diaBP    BMI  heartRate  glucose  \\\n",
       "0             0         0    195.0  106.0   70.0  26.97       80.0     77.0   \n",
       "1             0         0    250.0  121.0   81.0  28.73       95.0     76.0   \n",
       "\n",
       "   TenYearCHD  \n",
       "0           0  \n",
       "1           0  "
      ]
     },
     "execution_count": 41,
     "metadata": {},
     "output_type": "execute_result"
    }
   ],
   "source": [
    "data.head(2)"
   ]
  },
  {
   "cell_type": "code",
   "execution_count": 42,
   "id": "fef750d1",
   "metadata": {},
   "outputs": [
    {
     "data": {
      "text/html": [
       "<div>\n",
       "<style scoped>\n",
       "    .dataframe tbody tr th:only-of-type {\n",
       "        vertical-align: middle;\n",
       "    }\n",
       "\n",
       "    .dataframe tbody tr th {\n",
       "        vertical-align: top;\n",
       "    }\n",
       "\n",
       "    .dataframe thead th {\n",
       "        text-align: right;\n",
       "    }\n",
       "</style>\n",
       "<table border=\"1\" class=\"dataframe\">\n",
       "  <thead>\n",
       "    <tr style=\"text-align: right;\">\n",
       "      <th></th>\n",
       "      <th>Gender</th>\n",
       "      <th>age</th>\n",
       "      <th>education</th>\n",
       "      <th>currentSmoker</th>\n",
       "      <th>cigsPerDay</th>\n",
       "      <th>BPMeds</th>\n",
       "      <th>prevalentStroke</th>\n",
       "      <th>prevalentHyp</th>\n",
       "      <th>diabetes</th>\n",
       "      <th>totChol</th>\n",
       "      <th>sysBP</th>\n",
       "      <th>diaBP</th>\n",
       "      <th>BMI</th>\n",
       "      <th>heartRate</th>\n",
       "      <th>glucose</th>\n",
       "      <th>TenYearCHD</th>\n",
       "    </tr>\n",
       "  </thead>\n",
       "  <tbody>\n",
       "  </tbody>\n",
       "</table>\n",
       "</div>"
      ],
      "text/plain": [
       "Empty DataFrame\n",
       "Columns: [Gender, age, education, currentSmoker, cigsPerDay, BPMeds, prevalentStroke, prevalentHyp, diabetes, totChol, sysBP, diaBP, BMI, heartRate, glucose, TenYearCHD]\n",
       "Index: []"
      ]
     },
     "execution_count": 42,
     "metadata": {},
     "output_type": "execute_result"
    }
   ],
   "source": [
    "data[data.duplicated(keep=False)]"
   ]
  },
  {
   "cell_type": "markdown",
   "id": "d3f23129",
   "metadata": {},
   "source": [
    "No duplicate entries in the data"
   ]
  },
  {
   "cell_type": "code",
   "execution_count": 43,
   "id": "dd7f182c",
   "metadata": {},
   "outputs": [
    {
     "name": "stdout",
     "output_type": "stream",
     "text": [
      "<class 'pandas.core.frame.DataFrame'>\n",
      "RangeIndex: 4238 entries, 0 to 4237\n",
      "Data columns (total 16 columns):\n",
      " #   Column           Non-Null Count  Dtype  \n",
      "---  ------           --------------  -----  \n",
      " 0   Gender           4238 non-null   int64  \n",
      " 1   age              4238 non-null   int64  \n",
      " 2   education        4133 non-null   float64\n",
      " 3   currentSmoker    4238 non-null   int64  \n",
      " 4   cigsPerDay       4209 non-null   float64\n",
      " 5   BPMeds           4185 non-null   float64\n",
      " 6   prevalentStroke  4238 non-null   int64  \n",
      " 7   prevalentHyp     4238 non-null   int64  \n",
      " 8   diabetes         4238 non-null   int64  \n",
      " 9   totChol          4188 non-null   float64\n",
      " 10  sysBP            4238 non-null   float64\n",
      " 11  diaBP            4238 non-null   float64\n",
      " 12  BMI              4219 non-null   float64\n",
      " 13  heartRate        4237 non-null   float64\n",
      " 14  glucose          3850 non-null   float64\n",
      " 15  TenYearCHD       4238 non-null   int64  \n",
      "dtypes: float64(9), int64(7)\n",
      "memory usage: 529.9 KB\n"
     ]
    }
   ],
   "source": [
    "data.info()"
   ]
  },
  {
   "cell_type": "code",
   "execution_count": 44,
   "id": "c093c1cb",
   "metadata": {},
   "outputs": [
    {
     "data": {
      "text/plain": [
       "Gender               0\n",
       "age                  0\n",
       "education          105\n",
       "currentSmoker        0\n",
       "cigsPerDay          29\n",
       "BPMeds              53\n",
       "prevalentStroke      0\n",
       "prevalentHyp         0\n",
       "diabetes             0\n",
       "totChol             50\n",
       "sysBP                0\n",
       "diaBP                0\n",
       "BMI                 19\n",
       "heartRate            1\n",
       "glucose            388\n",
       "TenYearCHD           0\n",
       "dtype: int64"
      ]
     },
     "execution_count": 44,
     "metadata": {},
     "output_type": "execute_result"
    }
   ],
   "source": [
    "#lets check the null Values\n",
    "data.isnull().sum()"
   ]
  },
  {
   "cell_type": "markdown",
   "id": "ee185372",
   "metadata": {},
   "source": [
    "There are null values in  few coloumns\n",
    "\n",
    "education     :     105\n",
    "\n",
    "cigsPerDay     :     29\n",
    "\n",
    "BPMeds          :    53\n",
    "\n",
    "totChol          :   50\n",
    "\n",
    "BMI            :     19\n",
    "\n",
    "heartRate       :     1\n",
    "\n",
    "glucose          :  388"
   ]
  },
  {
   "cell_type": "code",
   "execution_count": 45,
   "id": "4d48c86a",
   "metadata": {},
   "outputs": [
    {
     "data": {
      "image/png": "[encoded data removed]",
      "text/plain": [
       "<Figure size 1440x1800 with 16 Axes>"
      ]
     },
     "metadata": {},
     "output_type": "display_data"
    }
   ],
   "source": [
    "plt.figure(figsize=(20,25), facecolor='white')\n",
    "plotnumber = 1\n",
    "\n",
    "for column in data:\n",
    "    if plotnumber<=16 :     # as there are 16 columns in the data\n",
    "        ax = plt.subplot(4,4,plotnumber)\n",
    "        sns.distplot(data[column])\n",
    "        plt.xlabel(column,fontsize=20)\n",
    "        #plt.ylabel('Salary',fontsize=20)\n",
    "    plotnumber+=1\n",
    "plt.show()"
   ]
  },
  {
   "cell_type": "markdown",
   "id": "3eb2621d",
   "metadata": {},
   "source": [
    "### Imputation of missing Values"
   ]
  },
  {
   "cell_type": "code",
   "execution_count": 46,
   "id": "1d6f5eed",
   "metadata": {},
   "outputs": [
    {
     "data": {
      "text/plain": [
       "1.0    1720\n",
       "2.0    1253\n",
       "3.0     687\n",
       "4.0     473\n",
       "Name: education, dtype: int64"
      ]
     },
     "execution_count": 46,
     "metadata": {},
     "output_type": "execute_result"
    }
   ],
   "source": [
    "data['education'].value_counts()"
   ]
  },
  {
   "cell_type": "markdown",
   "id": "9012beaa",
   "metadata": {},
   "source": [
    "from the data we can conclude that mode value for education coloumn is 1.0\n"
   ]
  },
  {
   "cell_type": "code",
   "execution_count": 47,
   "id": "a4d04156",
   "metadata": {},
   "outputs": [],
   "source": [
    "data['education'] = data['education'].fillna(1.0)"
   ]
  },
  {
   "cell_type": "code",
   "execution_count": 48,
   "id": "d819cba8",
   "metadata": {},
   "outputs": [
    {
     "data": {
      "text/plain": [
       "0    0.0\n",
       "dtype: float64"
      ]
     },
     "execution_count": 48,
     "metadata": {},
     "output_type": "execute_result"
    }
   ],
   "source": [
    "data['cigsPerDay'].mode()"
   ]
  },
  {
   "cell_type": "code",
   "execution_count": 49,
   "id": "650727a4",
   "metadata": {},
   "outputs": [],
   "source": [
    "data['cigsPerDay'] = data['cigsPerDay'].fillna(0)"
   ]
  },
  {
   "cell_type": "code",
   "execution_count": 50,
   "id": "9a51406e",
   "metadata": {},
   "outputs": [
    {
     "data": {
      "text/plain": [
       "0    0.0\n",
       "dtype: float64"
      ]
     },
     "execution_count": 50,
     "metadata": {},
     "output_type": "execute_result"
    }
   ],
   "source": [
    "data['BPMeds'].mode()"
   ]
  },
  {
   "cell_type": "code",
   "execution_count": 51,
   "id": "202cf30c",
   "metadata": {},
   "outputs": [],
   "source": [
    "data['BPMeds'] = data['BPMeds'].fillna(0)"
   ]
  },
  {
   "cell_type": "code",
   "execution_count": 52,
   "id": "b314858b",
   "metadata": {},
   "outputs": [
    {
     "data": {
      "text/plain": [
       "236.72158548233045"
      ]
     },
     "execution_count": 52,
     "metadata": {},
     "output_type": "execute_result"
    }
   ],
   "source": [
    "data['totChol'].mean()"
   ]
  },
  {
   "cell_type": "code",
   "execution_count": 53,
   "id": "a01bce2c",
   "metadata": {},
   "outputs": [],
   "source": [
    "data['totChol'] = data['totChol'].fillna(236.72158548233045)"
   ]
  },
  {
   "cell_type": "code",
   "execution_count": 54,
   "id": "024a3c29",
   "metadata": {},
   "outputs": [
    {
     "data": {
      "text/plain": [
       "25.80200758473571"
      ]
     },
     "execution_count": 54,
     "metadata": {},
     "output_type": "execute_result"
    }
   ],
   "source": [
    "data['BMI'].mean()"
   ]
  },
  {
   "cell_type": "code",
   "execution_count": 55,
   "id": "0a842fdf",
   "metadata": {},
   "outputs": [],
   "source": [
    "data['BMI'] = data['BMI'].fillna(25.80200758473571)"
   ]
  },
  {
   "cell_type": "code",
   "execution_count": 56,
   "id": "08ba0c78",
   "metadata": {},
   "outputs": [
    {
     "data": {
      "text/plain": [
       "81.96675324675324"
      ]
     },
     "execution_count": 56,
     "metadata": {},
     "output_type": "execute_result"
    }
   ],
   "source": [
    "data['glucose'].mean()"
   ]
  },
  {
   "cell_type": "code",
   "execution_count": 57,
   "id": "752e9cae",
   "metadata": {},
   "outputs": [],
   "source": [
    "data['glucose'] = data['glucose'].fillna(81.96675324675324)"
   ]
  },
  {
   "cell_type": "code",
   "execution_count": 58,
   "id": "e41e78de",
   "metadata": {},
   "outputs": [
    {
     "data": {
      "text/plain": [
       "75.87892376681614"
      ]
     },
     "execution_count": 58,
     "metadata": {},
     "output_type": "execute_result"
    }
   ],
   "source": [
    "data['heartRate'].mean()"
   ]
  },
  {
   "cell_type": "code",
   "execution_count": 59,
   "id": "582c14c5",
   "metadata": {},
   "outputs": [],
   "source": [
    "data['heartRate'] = data['heartRate'].fillna(75.87892376681614)"
   ]
  },
  {
   "cell_type": "code",
   "execution_count": 60,
   "id": "00dd0249",
   "metadata": {},
   "outputs": [
    {
     "data": {
      "text/plain": [
       "Gender             0\n",
       "age                0\n",
       "education          0\n",
       "currentSmoker      0\n",
       "cigsPerDay         0\n",
       "BPMeds             0\n",
       "prevalentStroke    0\n",
       "prevalentHyp       0\n",
       "diabetes           0\n",
       "totChol            0\n",
       "sysBP              0\n",
       "diaBP              0\n",
       "BMI                0\n",
       "heartRate          0\n",
       "glucose            0\n",
       "TenYearCHD         0\n",
       "dtype: int64"
      ]
     },
     "execution_count": 60,
     "metadata": {},
     "output_type": "execute_result"
    }
   ],
   "source": [
    "data.isnull().sum()"
   ]
  },
  {
   "cell_type": "markdown",
   "id": "3d047585",
   "metadata": {},
   "source": [
    "All the Null values are filled"
   ]
  },
  {
   "cell_type": "markdown",
   "id": "8a466d0d",
   "metadata": {},
   "source": [
    "## Data Visualization"
   ]
  },
  {
   "cell_type": "markdown",
   "id": "1e813704",
   "metadata": {},
   "source": [
    "### Create the coppy of Dataset for better understanding of data visualization"
   ]
  },
  {
   "cell_type": "code",
   "execution_count": 61,
   "id": "ef39a9a5",
   "metadata": {},
   "outputs": [],
   "source": [
    "heartcopy=data.copy()"
   ]
  },
  {
   "cell_type": "code",
   "execution_count": 62,
   "id": "1e99eee9",
   "metadata": {},
   "outputs": [
    {
     "data": {
      "text/html": [
       "<div>\n",
       "<style scoped>\n",
       "    .dataframe tbody tr th:only-of-type {\n",
       "        vertical-align: middle;\n",
       "    }\n",
       "\n",
       "    .dataframe tbody tr th {\n",
       "        vertical-align: top;\n",
       "    }\n",
       "\n",
       "    .dataframe thead th {\n",
       "        text-align: right;\n",
       "    }\n",
       "</style>\n",
       "<table border=\"1\" class=\"dataframe\">\n",
       "  <thead>\n",
       "    <tr style=\"text-align: right;\">\n",
       "      <th></th>\n",
       "      <th>Gender</th>\n",
       "      <th>age</th>\n",
       "      <th>education</th>\n",
       "      <th>currentSmoker</th>\n",
       "      <th>cigsPerDay</th>\n",
       "      <th>BPMeds</th>\n",
       "      <th>prevalentStroke</th>\n",
       "      <th>prevalentHyp</th>\n",
       "      <th>diabetes</th>\n",
       "      <th>totChol</th>\n",
       "      <th>sysBP</th>\n",
       "      <th>diaBP</th>\n",
       "      <th>BMI</th>\n",
       "      <th>heartRate</th>\n",
       "      <th>glucose</th>\n",
       "      <th>TenYearCHD</th>\n",
       "    </tr>\n",
       "  </thead>\n",
       "  <tbody>\n",
       "    <tr>\n",
       "      <th>0</th>\n",
       "      <td>Male</td>\n",
       "      <td>39</td>\n",
       "      <td>4.0</td>\n",
       "      <td>No</td>\n",
       "      <td>0.0</td>\n",
       "      <td>No</td>\n",
       "      <td>No</td>\n",
       "      <td>No</td>\n",
       "      <td>No</td>\n",
       "      <td>195.0</td>\n",
       "      <td>106.0</td>\n",
       "      <td>70.0</td>\n",
       "      <td>26.97</td>\n",
       "      <td>80.0</td>\n",
       "      <td>77.0</td>\n",
       "      <td>No</td>\n",
       "    </tr>\n",
       "    <tr>\n",
       "      <th>1</th>\n",
       "      <td>Female</td>\n",
       "      <td>46</td>\n",
       "      <td>2.0</td>\n",
       "      <td>No</td>\n",
       "      <td>0.0</td>\n",
       "      <td>No</td>\n",
       "      <td>No</td>\n",
       "      <td>No</td>\n",
       "      <td>No</td>\n",
       "      <td>250.0</td>\n",
       "      <td>121.0</td>\n",
       "      <td>81.0</td>\n",
       "      <td>28.73</td>\n",
       "      <td>95.0</td>\n",
       "      <td>76.0</td>\n",
       "      <td>No</td>\n",
       "    </tr>\n",
       "    <tr>\n",
       "      <th>2</th>\n",
       "      <td>Male</td>\n",
       "      <td>48</td>\n",
       "      <td>1.0</td>\n",
       "      <td>Yes</td>\n",
       "      <td>20.0</td>\n",
       "      <td>No</td>\n",
       "      <td>No</td>\n",
       "      <td>No</td>\n",
       "      <td>No</td>\n",
       "      <td>245.0</td>\n",
       "      <td>127.5</td>\n",
       "      <td>80.0</td>\n",
       "      <td>25.34</td>\n",
       "      <td>75.0</td>\n",
       "      <td>70.0</td>\n",
       "      <td>No</td>\n",
       "    </tr>\n",
       "    <tr>\n",
       "      <th>3</th>\n",
       "      <td>Female</td>\n",
       "      <td>61</td>\n",
       "      <td>3.0</td>\n",
       "      <td>Yes</td>\n",
       "      <td>30.0</td>\n",
       "      <td>No</td>\n",
       "      <td>No</td>\n",
       "      <td>Yes</td>\n",
       "      <td>No</td>\n",
       "      <td>225.0</td>\n",
       "      <td>150.0</td>\n",
       "      <td>95.0</td>\n",
       "      <td>28.58</td>\n",
       "      <td>65.0</td>\n",
       "      <td>103.0</td>\n",
       "      <td>Yes</td>\n",
       "    </tr>\n",
       "    <tr>\n",
       "      <th>4</th>\n",
       "      <td>Female</td>\n",
       "      <td>46</td>\n",
       "      <td>3.0</td>\n",
       "      <td>Yes</td>\n",
       "      <td>23.0</td>\n",
       "      <td>No</td>\n",
       "      <td>No</td>\n",
       "      <td>No</td>\n",
       "      <td>No</td>\n",
       "      <td>285.0</td>\n",
       "      <td>130.0</td>\n",
       "      <td>84.0</td>\n",
       "      <td>23.10</td>\n",
       "      <td>85.0</td>\n",
       "      <td>85.0</td>\n",
       "      <td>No</td>\n",
       "    </tr>\n",
       "  </tbody>\n",
       "</table>\n",
       "</div>"
      ],
      "text/plain": [
       "   Gender  age  education currentSmoker  cigsPerDay BPMeds prevalentStroke  \\\n",
       "0    Male   39        4.0            No         0.0     No              No   \n",
       "1  Female   46        2.0            No         0.0     No              No   \n",
       "2    Male   48        1.0           Yes        20.0     No              No   \n",
       "3  Female   61        3.0           Yes        30.0     No              No   \n",
       "4  Female   46        3.0           Yes        23.0     No              No   \n",
       "\n",
       "  prevalentHyp diabetes  totChol  sysBP  diaBP    BMI  heartRate  glucose  \\\n",
       "0           No       No    195.0  106.0   70.0  26.97       80.0     77.0   \n",
       "1           No       No    250.0  121.0   81.0  28.73       95.0     76.0   \n",
       "2           No       No    245.0  127.5   80.0  25.34       75.0     70.0   \n",
       "3          Yes       No    225.0  150.0   95.0  28.58       65.0    103.0   \n",
       "4           No       No    285.0  130.0   84.0  23.10       85.0     85.0   \n",
       "\n",
       "  TenYearCHD  \n",
       "0         No  \n",
       "1         No  \n",
       "2         No  \n",
       "3        Yes  \n",
       "4         No  "
      ]
     },
     "execution_count": 62,
     "metadata": {},
     "output_type": "execute_result"
    }
   ],
   "source": [
    "heartcopy['Gender']=heartcopy['Gender'].replace({0:'Female',1:'Male'})\n",
    "heartcopy['currentSmoker']=heartcopy['currentSmoker'].replace({0:'No',1:'Yes'})\n",
    "heartcopy['BPMeds']=heartcopy['BPMeds'].replace({0:'No',1:'Yes'})\n",
    "heartcopy['prevalentStroke']=heartcopy['prevalentStroke'].replace({0:'No',1:'Yes'})\n",
    "heartcopy['prevalentHyp']=heartcopy['prevalentHyp'].replace({0:'No',1:'Yes'})\n",
    "heartcopy['diabetes']=heartcopy['diabetes'].replace({0:'No',1:'Yes'})\n",
    "heartcopy['TenYearCHD']=heartcopy['TenYearCHD'].replace({0:'No',1:'Yes'})\n",
    "heartcopy.head()"
   ]
  },
  {
   "cell_type": "code",
   "execution_count": 63,
   "id": "e66f83cc",
   "metadata": {},
   "outputs": [
    {
     "data": {
      "text/plain": [
       "Text(0.5, 1.0, 'Diabetes')"
      ]
     },
     "execution_count": 63,
     "metadata": {},
     "output_type": "execute_result"
    },
    {
     "data": {
      "image/png": "[encoded data removed]",
      "text/plain": [
       "<Figure size 1080x720 with 6 Axes>"
      ]
     },
     "metadata": {},
     "output_type": "display_data"
    }
   ],
   "source": [
    "fig, axes = plt.subplots(2, 3, figsize=(15, 10))\n",
    "fig.suptitle('')\n",
    "\n",
    "sns.countplot(ax=axes[0,0], x=\"Gender\", hue=\"TenYearCHD\", data=heartcopy)\n",
    "axes[0,0].set_title('Gender')\n",
    "\n",
    "sns.countplot(ax=axes[0,1], x=\"currentSmoker\", hue=\"TenYearCHD\", data=heartcopy)\n",
    "axes[0,1].set_title('Current Smoker')\n",
    "\n",
    "sns.countplot(ax=axes[0,2], x=\"BPMeds\", hue=\"TenYearCHD\", data=heartcopy)\n",
    "axes[0,2].set_title('BP Meds')\n",
    "\n",
    "sns.countplot(ax=axes[1,0], x=\"prevalentStroke\", hue=\"TenYearCHD\", data=heartcopy)\n",
    "axes[1,0].set_title('Prevalent Stroke')\n",
    "\n",
    "sns.countplot(ax=axes[1,1], x=\"prevalentHyp\", hue=\"TenYearCHD\", data=heartcopy)\n",
    "axes[1,1].set_title('Prevalent Hyp')\n",
    "\n",
    "sns.countplot(ax=axes[1,2], x=\"diabetes\", hue=\"TenYearCHD\", data=heartcopy)\n",
    "axes[1,2].set_title('Diabetes')"
   ]
  },
  {
   "cell_type": "code",
   "execution_count": 64,
   "id": "df8f2730",
   "metadata": {},
   "outputs": [],
   "source": [
    "x = data.drop('TenYearCHD',axis=1) # features\n",
    "y = data['TenYearCHD'] # target"
   ]
  },
  {
   "cell_type": "code",
   "execution_count": 65,
   "id": "3008bc01",
   "metadata": {},
   "outputs": [],
   "source": [
    "#Standardization of features\n",
    "scalar = StandardScaler() \n",
    "X_scaled = scalar.fit_transform(x)"
   ]
  },
  {
   "cell_type": "code",
   "execution_count": 66,
   "id": "277c8cc0",
   "metadata": {},
   "outputs": [],
   "source": [
    "#Splitting of dataset 75/25\n",
    "x_train, x_test, y_train, y_test = train_test_split(X_scaled, y, test_size=0.25, random_state=1)"
   ]
  },
  {
   "cell_type": "code",
   "execution_count": 70,
   "id": "27aea280",
   "metadata": {},
   "outputs": [],
   "source": [
    "logreg = LogisticRegression()"
   ]
  },
  {
   "cell_type": "code",
   "execution_count": 71,
   "id": "5771275f",
   "metadata": {},
   "outputs": [
    {
     "data": {
      "text/plain": [
       "LogisticRegression()"
      ]
     },
     "execution_count": 71,
     "metadata": {},
     "output_type": "execute_result"
    }
   ],
   "source": [
    "logreg.fit(x_train,y_train)"
   ]
  },
  {
   "cell_type": "code",
   "execution_count": 72,
   "id": "608f7869",
   "metadata": {},
   "outputs": [
    {
     "data": {
      "text/plain": [
       "0.8521082441787288"
      ]
     },
     "execution_count": 72,
     "metadata": {},
     "output_type": "execute_result"
    }
   ],
   "source": [
    "logreg.score(x_train,y_train)"
   ]
  },
  {
   "cell_type": "code",
   "execution_count": 74,
   "id": "bdcebc15",
   "metadata": {},
   "outputs": [],
   "source": [
    "y_pred = logreg.predict(x_test)"
   ]
  },
  {
   "cell_type": "markdown",
   "id": "d36b7cc9",
   "metadata": {},
   "source": [
    "### Metrics"
   ]
  },
  {
   "cell_type": "code",
   "execution_count": 88,
   "id": "5b93dcec",
   "metadata": {},
   "outputs": [
    {
     "name": "stdout",
     "output_type": "stream",
     "text": [
      "Accuracy score is 86.13207547169812\n"
     ]
    }
   ],
   "source": [
    "print('Accuracy score is',accuracy_score(y_test,y_pred)*100)\n"
   ]
  },
  {
   "cell_type": "code",
   "execution_count": 77,
   "id": "b75f7862",
   "metadata": {},
   "outputs": [
    {
     "name": "stdout",
     "output_type": "stream",
     "text": [
      "[[903  12]\n",
      " [135  10]]\n"
     ]
    }
   ],
   "source": [
    "#Confusion Matrix\n",
    "conf_mat=confusion_matrix(y_test,y_pred)\n",
    "print(conf_mat)"
   ]
  },
  {
   "cell_type": "code",
   "execution_count": 84,
   "id": "21769bb5",
   "metadata": {},
   "outputs": [],
   "source": [
    "true_positive = conf_mat[0][0]\n",
    "false_positive = conf_mat[0][1]\n",
    "false_negative = conf_mat[1][0]\n",
    "true_negative = conf_mat[1][1]"
   ]
  },
  {
   "cell_type": "code",
   "execution_count": 81,
   "id": "87ed271b",
   "metadata": {},
   "outputs": [
    {
     "data": {
      "text/plain": [
       "0.8613207547169811"
      ]
     },
     "execution_count": 81,
     "metadata": {},
     "output_type": "execute_result"
    }
   ],
   "source": [
    "Accuracy = (true_positive + true_negative) / (true_positive +false_positive + false_negative + true_negative)\n",
    "Accuracy"
   ]
  },
  {
   "cell_type": "code",
   "execution_count": 89,
   "id": "9474a9bd",
   "metadata": {},
   "outputs": [
    {
     "name": "stdout",
     "output_type": "stream",
     "text": [
      "precision is: 0.9868852459016394\n"
     ]
    }
   ],
   "source": [
    "# Precison\n",
    "Precision = true_positive/(true_positive+false_positive)\n",
    "print(\"precision is:\",Precision)"
   ]
  },
  {
   "cell_type": "code",
   "execution_count": 90,
   "id": "c61732bf",
   "metadata": {},
   "outputs": [
    {
     "name": "stdout",
     "output_type": "stream",
     "text": [
      "Recall is: 0.869942196531792\n"
     ]
    }
   ],
   "source": [
    "Recall = true_positive/(true_positive+false_negative)\n",
    "print(\"Recall is:\",Recall)"
   ]
  },
  {
   "cell_type": "code",
   "execution_count": 91,
   "id": "f2069d80",
   "metadata": {},
   "outputs": [
    {
     "name": "stdout",
     "output_type": "stream",
     "text": [
      "f1 score is 92.4731182795699\n"
     ]
    }
   ],
   "source": [
    "f1=2*((Precision * Recall )) /(Precision + Recall)\n",
    "print(\"f1 score is\",f1*100)"
   ]
  },
  {
   "cell_type": "code",
   "execution_count": 86,
   "id": "85adeed9",
   "metadata": {},
   "outputs": [
    {
     "name": "stdout",
     "output_type": "stream",
     "text": [
      "              precision    recall  f1-score   support\n",
      "\n",
      "           0       0.87      0.99      0.92       915\n",
      "           1       0.45      0.07      0.12       145\n",
      "\n",
      "    accuracy                           0.86      1060\n",
      "   macro avg       0.66      0.53      0.52      1060\n",
      "weighted avg       0.81      0.86      0.81      1060\n",
      "\n"
     ]
    }
   ],
   "source": [
    "from sklearn.metrics import classification_report\n",
    "print(classification_report(y_test,y_pred))"
   ]
  },
  {
   "cell_type": "code",
   "execution_count": 95,
   "id": "de26c807",
   "metadata": {},
   "outputs": [],
   "source": [
    "y_pred_prob = logreg.predict_proba(x_test)\n"
   ]
  },
  {
   "cell_type": "code",
   "execution_count": 97,
   "id": "e49cd547",
   "metadata": {},
   "outputs": [
    {
     "name": "stdout",
     "output_type": "stream",
     "text": [
      "[[0.8484257  0.1515743 ]\n",
      " [0.95855664 0.04144336]\n",
      " [0.96990677 0.03009323]\n",
      " ...\n",
      " [0.66436362 0.33563638]\n",
      " [0.81340643 0.18659357]\n",
      " [0.94818855 0.05181145]]\n"
     ]
    }
   ],
   "source": [
    "print(y_pred_prob)"
   ]
  },
  {
   "cell_type": "code",
   "execution_count": 98,
   "id": "952c1288",
   "metadata": {},
   "outputs": [
    {
     "data": {
      "text/plain": [
       "array([0.1515743 , 0.04144336, 0.03009323, ..., 0.33563638, 0.18659357,\n",
       "       0.05181145])"
      ]
     },
     "execution_count": 98,
     "metadata": {},
     "output_type": "execute_result"
    }
   ],
   "source": [
    "y_pred_prob[:,1]"
   ]
  },
  {
   "cell_type": "code",
   "execution_count": 99,
   "id": "81e89870",
   "metadata": {},
   "outputs": [
    {
     "data": {
      "text/html": [
       "<div>\n",
       "<style scoped>\n",
       "    .dataframe tbody tr th:only-of-type {\n",
       "        vertical-align: middle;\n",
       "    }\n",
       "\n",
       "    .dataframe tbody tr th {\n",
       "        vertical-align: top;\n",
       "    }\n",
       "\n",
       "    .dataframe thead th {\n",
       "        text-align: right;\n",
       "    }\n",
       "</style>\n",
       "<table border=\"1\" class=\"dataframe\">\n",
       "  <thead>\n",
       "    <tr style=\"text-align: right;\">\n",
       "      <th></th>\n",
       "      <th>Actual</th>\n",
       "      <th>Predicted</th>\n",
       "    </tr>\n",
       "  </thead>\n",
       "  <tbody>\n",
       "    <tr>\n",
       "      <th>906</th>\n",
       "      <td>0</td>\n",
       "      <td>0</td>\n",
       "    </tr>\n",
       "    <tr>\n",
       "      <th>857</th>\n",
       "      <td>0</td>\n",
       "      <td>0</td>\n",
       "    </tr>\n",
       "    <tr>\n",
       "      <th>2761</th>\n",
       "      <td>0</td>\n",
       "      <td>0</td>\n",
       "    </tr>\n",
       "    <tr>\n",
       "      <th>108</th>\n",
       "      <td>1</td>\n",
       "      <td>0</td>\n",
       "    </tr>\n",
       "    <tr>\n",
       "      <th>2894</th>\n",
       "      <td>0</td>\n",
       "      <td>0</td>\n",
       "    </tr>\n",
       "    <tr>\n",
       "      <th>407</th>\n",
       "      <td>0</td>\n",
       "      <td>0</td>\n",
       "    </tr>\n",
       "    <tr>\n",
       "      <th>1792</th>\n",
       "      <td>0</td>\n",
       "      <td>0</td>\n",
       "    </tr>\n",
       "    <tr>\n",
       "      <th>3807</th>\n",
       "      <td>0</td>\n",
       "      <td>0</td>\n",
       "    </tr>\n",
       "    <tr>\n",
       "      <th>306</th>\n",
       "      <td>0</td>\n",
       "      <td>0</td>\n",
       "    </tr>\n",
       "    <tr>\n",
       "      <th>2354</th>\n",
       "      <td>0</td>\n",
       "      <td>0</td>\n",
       "    </tr>\n",
       "    <tr>\n",
       "      <th>4050</th>\n",
       "      <td>0</td>\n",
       "      <td>0</td>\n",
       "    </tr>\n",
       "    <tr>\n",
       "      <th>3653</th>\n",
       "      <td>0</td>\n",
       "      <td>0</td>\n",
       "    </tr>\n",
       "    <tr>\n",
       "      <th>3634</th>\n",
       "      <td>0</td>\n",
       "      <td>0</td>\n",
       "    </tr>\n",
       "    <tr>\n",
       "      <th>2016</th>\n",
       "      <td>0</td>\n",
       "      <td>0</td>\n",
       "    </tr>\n",
       "    <tr>\n",
       "      <th>3211</th>\n",
       "      <td>0</td>\n",
       "      <td>0</td>\n",
       "    </tr>\n",
       "  </tbody>\n",
       "</table>\n",
       "</div>"
      ],
      "text/plain": [
       "      Actual  Predicted\n",
       "906        0          0\n",
       "857        0          0\n",
       "2761       0          0\n",
       "108        1          0\n",
       "2894       0          0\n",
       "407        0          0\n",
       "1792       0          0\n",
       "3807       0          0\n",
       "306        0          0\n",
       "2354       0          0\n",
       "4050       0          0\n",
       "3653       0          0\n",
       "3634       0          0\n",
       "2016       0          0\n",
       "3211       0          0"
      ]
     },
     "execution_count": 99,
     "metadata": {},
     "output_type": "execute_result"
    }
   ],
   "source": [
    "Comparison = pd.DataFrame({'Actual':y_test,'Predicted':y_pred})\n",
    "Comparison.head(15)"
   ]
  },
  {
   "cell_type": "code",
   "execution_count": null,
   "id": "05726c88",
   "metadata": {},
   "outputs": [],
   "source": []
  }
 ],
 "metadata": {
  "kernelspec": {
   "display_name": "Python 3",
   "language": "python",
   "name": "python3"
  },
  "language_info": {
   "codemirror_mode": {
    "name": "ipython",
    "version": 3
   },
   "file_extension": ".py",
   "mimetype": "text/x-python",
   "name": "python",
   "nbconvert_exporter": "python",
   "pygments_lexer": "ipython3",
   "version": "3.8.10"
  }
 },
 "nbformat": 4,
 "nbformat_minor": 5
}
